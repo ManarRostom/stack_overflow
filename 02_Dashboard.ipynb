{
 "cells": [
  {
   "cell_type": "markdown",
   "id": "6c0988bc",
   "metadata": {},
   "source": [
    "<center><span style=\"color:#b30000;font-size:40px;\">\n",
    "    <strong>Dashboard Part</strong><br><br></span></center>"
   ]
  },
  {
   "cell_type": "markdown",
   "id": "e848fa6b",
   "metadata": {},
   "source": [
    "<span style=\"color:#2929a3;font-size:25px;\"><strong>Developers Dashboard Link</strong></span>"
   ]
  },
  {
   "cell_type": "markdown",
   "id": "55578dab",
   "metadata": {},
   "source": [
    "### https://developersdashboard-xnntux8yyufpsypi35a3ta.streamlit.app/"
   ]
  },
  {
   "cell_type": "markdown",
   "id": "a5724788",
   "metadata": {},
   "source": [
    "<span style=\"color:#2929a3;font-size:25px;\"><strong>StackOverflow Dashboard Link</strong></span>"
   ]
  },
  {
   "cell_type": "markdown",
   "id": "ba15664f",
   "metadata": {},
   "source": [
    "### https://stackoverflowdashboard-sjeug5ofamac2ahppjk3ra.streamlit.app/"
   ]
  },
  {
   "cell_type": "markdown",
   "id": "406ce998",
   "metadata": {},
   "source": [
    "<span style=\"color:#2929a3;font-size:25px;\"><strong>Developers Dashboard Code</strong></span>"
   ]
  },
  {
   "cell_type": "code",
   "execution_count": 200,
   "id": "a12c7a79",
   "metadata": {},
   "outputs": [
    {
     "name": "stdout",
     "output_type": "stream",
     "text": [
      "Overwriting Developers_Dashboard.py\n"
     ]
    }
   ],
   "source": [
    "%%writefile Developers_Dashboard.py\n",
    "\n",
    "# Import Libraries\n",
    "import pandas as pd\n",
    "import plotly.express as px\n",
    "import plotly.figure_factory as ff\n",
    "import streamlit as st\n",
    "\n",
    "# Load Dataframes \n",
    "df_age_2023 = pd.read_pickle('Data/Dashboard Dataframes/df_age_2023.pkl')\n",
    "df_LearnCourse_2023_ = pd.read_pickle('Data/Dashboard Dataframes/df_LearnCourse_2023_.pkl')\n",
    "df_TimeSearching_2023 = pd.read_pickle('Data/Dashboard Dataframes/df_TimeSearching_2023.pkl')\n",
    "df_AISearch_WorkedWith_ = pd.read_pickle('Data/Dashboard Dataframes/df_AISearch_WorkedWith_.pkl')\n",
    "df_AISelect = pd.read_pickle('Data/Dashboard Dataframes/df_AISelect.pkl')\n",
    "df_AIBen = pd.read_pickle('Data/Dashboard Dataframes/df_AIBen.pkl')\n",
    "df_AIToolCurrently_ = pd.read_pickle('Data/Dashboard Dataframes/df_AIToolCurrently_.pkl')\n",
    "df_Skills_Jobs = pd.read_pickle('Data/Dashboard Dataframes/df_Skills_Jobs.pkl')\n",
    "df_MiscTech = df_Skills_Jobs['MiscTechHaveWorkedWith'].sum().sort_values(ascending=False).head(10).sort_values(ascending=True).reset_index().rename(columns={'index':'MiscTech',0:'count'}).replace({'.NET Framework (1.0 - 4.8)':'.NET Framework'})\n",
    "\n",
    "st.markdown('<p style=\"color:#2929a3;font-size:50px;text-align:center;\"><strong>Developers Dashboard </strong></p>',unsafe_allow_html=True)\n",
    "\n",
    "col1_1 , col1_2 , col1_3 = st.columns([2,3,2])\n",
    "col2_1 , col2_2 , col2_3 = st.columns([2,3,2])\n",
    "col3_1 , col3_2 , col3_3 = st.columns([2,3,2])\n",
    "col4_1 , col4_2 , col4_3 = st.columns([2,3,2])\n",
    "col5_1 , col5_2 , col5_3 = st.columns([2,4,2])\n",
    "col6_1 , col6_2 , col6_3 = st.columns([2,4,2])\n",
    "col7_1 , col7_2 , col7_3 = st.columns([2,6,2])\n",
    "\n",
    "with col1_1:\n",
    "    st.plotly_chart(px.bar(data_frame=df_age_2023.sort_values(by='count', ascending=True), x='count', y='Age', orientation='h', text_auto=True, title='Age Distribution', height=450, width=500, color_discrete_sequence=['#2929a3']).update_layout(xaxis_title='', yaxis_title=''))\n",
    "with col1_3:\n",
    "    st.plotly_chart(px.bar(df_LearnCourse_2023_.sort_values(ascending=True), text_auto=True, orientation='h', title='Educational Platforms Distribution',height=450, width=500, color_discrete_sequence=['#2929a3']).update_layout(xaxis_title='', yaxis_title=''))\n",
    "    \n",
    "with col2_1:\n",
    "    st.plotly_chart(px.bar(data_frame=df_Skills_Jobs['LanguageHaveWorkedWith'].sum().sort_values(ascending=False).head(10).sort_values(ascending=True), text_auto=True, color_discrete_sequence=['#2929a3'], width=500, height=450, orientation='h', title='Top 10 Programming Languages').update_layout(xaxis_title='', yaxis_title=''))\n",
    "with col2_3:\n",
    "    st.plotly_chart(px.bar(data_frame=df_Skills_Jobs['DatabaseHaveWorkedWith'].sum().sort_values(ascending=False).head(10).sort_values(ascending=True), text_auto=True, color_discrete_sequence=['#2929a3'], width=500, height=450, orientation='h', title='Top 10 Databases').update_layout(xaxis_title='', yaxis_title=''))\n",
    "    \n",
    "with col3_1:\n",
    "    st.plotly_chart(px.bar(data_frame=df_Skills_Jobs['PlatformHaveWorkedWith'].sum().sort_values(ascending=False).head(10).sort_values(ascending=True), text_auto=True, color_discrete_sequence=['#2929a3'], width=500, height=450, orientation='h', title='Top 10 Platforms').update_layout(xaxis_title='', yaxis_title=''))\n",
    "with col3_3:\n",
    "    st.plotly_chart(px.bar(data_frame=df_Skills_Jobs['WebframeHaveWorkedWith'].sum().sort_values(ascending=False).head(10).sort_values(ascending=True), text_auto=True, color_discrete_sequence=['#2929a3'], width=500, height=450, orientation='h', title='Top 10 Webframes').update_layout(xaxis_title='', yaxis_title=''))\n",
    "    \n",
    "with col4_1:\n",
    "    st.plotly_chart(px.bar(data_frame=df_Skills_Jobs['ToolsTechHaveWorkedWith'].sum().sort_values(ascending=False).head(10).sort_values(ascending=True), text_auto=True, color_discrete_sequence=['#2929a3'], width=500, height=450, orientation='h', title='Top 10 Tools').update_layout(xaxis_title='', yaxis_title=''))\n",
    "with col4_3:\n",
    "    st.plotly_chart(px.bar(data_frame=df_Skills_Jobs['NEWCollabToolsHaveWorkedWith'].sum().sort_values(ascending=False).head(10).sort_values(ascending=True), text_auto=True, color_discrete_sequence=['#2929a3'], width=500, height=450, orientation='h', title='Top 10 CollabTools').update_layout(xaxis_title='', yaxis_title=''))\n",
    "    \n",
    "with col5_1:\n",
    "    st.plotly_chart(px.bar(data_frame=df_MiscTech, x='count', y='MiscTech', text_auto=True, color_discrete_sequence=['#2929a3'], width=500, height=450, orientation='h', title='Top 10 MiscTech').update_layout(xaxis_title='', yaxis_title=''))\n",
    "with col5_3:\n",
    "    st.plotly_chart(px.pie(data_frame=df_TimeSearching_2023, names = 'TimeSearching', values = 'count', title='Time Searching',height=450, width=500, color_discrete_sequence=['#191966','#2929a3','#4646d2','#5b5bd7','#8484e1']))\n",
    "    \n",
    "with col6_1:\n",
    "    st.plotly_chart(px.bar(df_AISearch_WorkedWith_.sort_values(ascending=True), text_auto=True, title='AI Tools Distribution',orientation='h', height=450, width=500, color_discrete_sequence=['#2929a3']).update_layout(xaxis_title='', yaxis_title=''))\n",
    "with col6_3:\n",
    "    st.plotly_chart(px.pie(data_frame=df_AIBen, names='AIBen', values='proportion', title='Trust in AI Tools', color_discrete_sequence=['#191966','#2929a3','#4646d2','#5b5bd7','#8484e1'], width=500, height=450))\n",
    "\n",
    "    \n",
    "with col7_1:\n",
    "    st.plotly_chart(px.bar(data_frame=df_AIToolCurrently_.sort_values(ascending=False), text_auto=True, title='Things Where AI Tools Prefered to Use', color_discrete_sequence=['#2929a3'], width=500, height=500).update_layout(xaxis_title='', yaxis_title=''))\n",
    "with col7_3:\n",
    "    st.plotly_chart(px.pie(data_frame=df_AISelect, names='AISelect', values='proportion', color_discrete_sequence=['#191966','#2929a3','#4646d2'], title='Using or not AI Tools', width=450, height=500))    "
   ]
  },
  {
   "cell_type": "markdown",
   "id": "a9a26c2c",
   "metadata": {},
   "source": [
    "<span style=\"color:#2929a3;font-size:25px;\"><strong>StackOverflow Dashboard Code</strong></span>"
   ]
  },
  {
   "cell_type": "code",
   "execution_count": 201,
   "id": "c4b0efda",
   "metadata": {},
   "outputs": [
    {
     "name": "stdout",
     "output_type": "stream",
     "text": [
      "Overwriting StackOverflow_Dashboard.py\n"
     ]
    }
   ],
   "source": [
    "%%writefile StackOverflow_Dashboard.py\n",
    "\n",
    "# Import Libraries\n",
    "import pandas as pd\n",
    "import plotly.express as px\n",
    "import plotly.figure_factory as ff\n",
    "import streamlit as st\n",
    "\n",
    "# Load Dataframes\n",
    "df_NEWSOSites_2023_ = pd.read_pickle('Data/Dashboard Dataframes/df_NEWSOSites_2023_.pkl')\n",
    "df_SurveyLength_2023 = pd.read_pickle('Data/Dashboard Dataframes/df_SurveyLength_2023.pkl')\n",
    "df_SurveyEase_2023 = pd.read_pickle('Data/Dashboard Dataframes/df_SurveyEase_2023.pkl')\n",
    "df_SOPartFreq_2023 = pd.read_pickle('Data/Dashboard Dataframes/df_SOPartFreq_2023.pkl')\n",
    "df_SOPartFreq_2023 = df_SOPartFreq_2023.sort_values(by='count', ascending=False).replace({'I have never participated in Q&A on Stack Overflow':'Never used it','A few times per month or weekly':'A few times','Less than once per month or monthly':'Less than once per month'})\n",
    "\n",
    "st.markdown('<p style=\"color:#2929a3;font-size:50px;text-align:center;\"><strong>StackOverflow Dashboard </strong></p>',unsafe_allow_html=True)\n",
    "\n",
    "col1_1 , col1_2 , col1_3 = st.columns([2,3,2])\n",
    "col2_1 , col2_2 , col2_3 = st.columns([2,3,2])\n",
    "col3_1 , col3_2 , col3_3 = st.columns([2,3,2])\n",
    "\n",
    "with col1_1:\n",
    "    st.plotly_chart(px.bar(df_NEWSOSites_2023_.sort_values(ascending=False), text_auto=True, orientation='v', color_discrete_sequence=['#2929a3'], height=450, width=500,title='StackOverflow Sites Usage').update_layout(xaxis_title='', yaxis_title=''))\n",
    "with col1_3:\n",
    "        st.plotly_chart(px.bar(data_frame=df_SOPartFreq_2023,x = 'SOPartFreq', y = 'count', text_auto=True, orientation='v', color_discrete_sequence=['#2929a3'], height=450, width=500, title='StackOverFlow Website Visits').update_layout(xaxis_title='', yaxis_title=''))\n",
    "\n",
    "with col2_1:\n",
    "    st.plotly_chart(px.pie(data_frame=df_SurveyLength_2023.sort_values(by='count', ascending=True), names='SurveyLength', values='count', color_discrete_sequence=['#2929a3'], height=450, width=500, title='Survey Length'))\n",
    "    \n",
    "with col2_3:\n",
    "    st.plotly_chart(px.pie(data_frame=df_SurveyEase_2023.sort_values(by='count', ascending=True), names='SurveyEase', values='count', color_discrete_sequence=['#2929a3'],height=450, width=500, title='Survey Ease'))\n",
    "    \n",
    "    "
   ]
  },
  {
   "cell_type": "code",
   "execution_count": null,
   "id": "c09ec5ce",
   "metadata": {},
   "outputs": [],
   "source": []
  }
 ],
 "metadata": {
  "kernelspec": {
   "display_name": "Python 3 (ipykernel)",
   "language": "python",
   "name": "python3"
  },
  "language_info": {
   "codemirror_mode": {
    "name": "ipython",
    "version": 3
   },
   "file_extension": ".py",
   "mimetype": "text/x-python",
   "name": "python",
   "nbconvert_exporter": "python",
   "pygments_lexer": "ipython3",
   "version": "3.10.8"
  }
 },
 "nbformat": 4,
 "nbformat_minor": 5
}
