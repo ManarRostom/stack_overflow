{
 "cells": [
  {
   "cell_type": "markdown",
   "id": "a3071c11",
   "metadata": {},
   "source": [
    "<center><span style=\"color:#b30000;font-size:35px;\"><strong>Modeling Phase</strong></span></center>"
   ]
  },
  {
   "cell_type": "markdown",
   "id": "e3d38aca",
   "metadata": {},
   "source": [
    "<span style=\"color:#2929a3;font-size:20px;\">Import Libraries</span>"
   ]
  },
  {
   "cell_type": "code",
   "execution_count": 2,
   "id": "04aaab5c",
   "metadata": {},
   "outputs": [],
   "source": [
    "import pandas as pd\n",
    "import numpy as np\n",
    "import plotly.express as px\n",
    "from sklearn.preprocessing import StandardScaler, MinMaxScaler, RobustScaler, MultiLabelBinarizer, LabelEncoder, FunctionTransformer\n",
    "from category_encoders import BinaryEncoder\n",
    "from sklearn.compose import ColumnTransformer\n",
    "from imblearn.pipeline import Pipeline as imb_Pipeline\n",
    "from sklearn.pipeline import Pipeline\n",
    "from imblearn.under_sampling import TomekLinks, RandomUnderSampler\n",
    "from imblearn.combine import SMOTETomek\n",
    "from imblearn.over_sampling import SMOTE\n",
    "from sklearn.model_selection import cross_validate , StratifiedKFold\n",
    "from sklearn.linear_model import LogisticRegression\n",
    "from sklearn.neighbors import KNeighborsClassifier\n",
    "from sklearn.naive_bayes import MultinomialNB, GaussianNB, BernoulliNB\n",
    "from sklearn.svm import SVC\n",
    "from sklearn.tree import DecisionTreeClassifier\n",
    "from sklearn.ensemble import RandomForestClassifier, VotingClassifier\n",
    "from xgboost import XGBClassifier\n",
    "from sklearn.decomposition import PCA\n",
    "from sklearn.feature_extraction.text import TfidfVectorizer"
   ]
  },
  {
   "cell_type": "markdown",
   "id": "9dc144f9",
   "metadata": {},
   "source": [
    "<span style=\"color:#2929a3;font-size:20px;\">Constants</span>"
   ]
  },
  {
   "cell_type": "code",
   "execution_count": 3,
   "id": "b14ce94a",
   "metadata": {},
   "outputs": [],
   "source": [
    "TECH_COLS = ['LanguageHaveWorkedWith',\n",
    "            'DatabaseHaveWorkedWith',\n",
    "            'PlatformHaveWorkedWith',\n",
    "            'WebframeHaveWorkedWith',\n",
    "            'MiscTechHaveWorkedWith',\n",
    "            'ToolsTechHaveWorkedWith',\n",
    "            'NEWCollabToolsHaveWorkedWith']"
   ]
  },
  {
   "cell_type": "markdown",
   "id": "0d09de63",
   "metadata": {},
   "source": [
    "<span style=\"color:#2929a3;font-size:20px;\">Read Dataset </span>"
   ]
  },
  {
   "cell_type": "code",
   "execution_count": 4,
   "id": "fe202341",
   "metadata": {},
   "outputs": [],
   "source": [
    "df = pd.read_pickle('Data/Cleaned_original_data.pkl')"
   ]
  },
  {
   "cell_type": "code",
   "execution_count": 5,
   "id": "9cde3216",
   "metadata": {},
   "outputs": [
    {
     "data": {
      "text/html": [
       "<div>\n",
       "<style scoped>\n",
       "    .dataframe tbody tr th:only-of-type {\n",
       "        vertical-align: middle;\n",
       "    }\n",
       "\n",
       "    .dataframe tbody tr th {\n",
       "        vertical-align: top;\n",
       "    }\n",
       "\n",
       "    .dataframe thead th {\n",
       "        text-align: right;\n",
       "    }\n",
       "</style>\n",
       "<table border=\"1\" class=\"dataframe\">\n",
       "  <thead>\n",
       "    <tr style=\"text-align: right;\">\n",
       "      <th></th>\n",
       "      <th>DevType</th>\n",
       "      <th>LanguageHaveWorkedWith</th>\n",
       "      <th>DatabaseHaveWorkedWith</th>\n",
       "      <th>PlatformHaveWorkedWith</th>\n",
       "      <th>WebframeHaveWorkedWith</th>\n",
       "      <th>MiscTechHaveWorkedWith</th>\n",
       "      <th>ToolsTechHaveWorkedWith</th>\n",
       "      <th>NEWCollabToolsHaveWorkedWith</th>\n",
       "    </tr>\n",
       "  </thead>\n",
       "  <tbody>\n",
       "    <tr>\n",
       "      <th>0</th>\n",
       "      <td>Web Developer</td>\n",
       "      <td>Bash/Shell (all shells);Go</td>\n",
       "      <td>NaN</td>\n",
       "      <td>Amazon Web Services (AWS);Google Cloud;OpenSta...</td>\n",
       "      <td>NaN</td>\n",
       "      <td>NaN</td>\n",
       "      <td>Cargo;Docker;Kubernetes;Make;Nix</td>\n",
       "      <td>Emacs;Helix</td>\n",
       "    </tr>\n",
       "    <tr>\n",
       "      <th>1</th>\n",
       "      <td>Web Developer</td>\n",
       "      <td>Bash/Shell (all shells);HTML/CSS;JavaScript;PH...</td>\n",
       "      <td>PostgreSQL;Redis</td>\n",
       "      <td>Cloudflare;Heroku</td>\n",
       "      <td>Node.js;React;Ruby on Rails;Vue.js;WordPress</td>\n",
       "      <td>NaN</td>\n",
       "      <td>Homebrew;npm;Vite;Webpack;Yarn</td>\n",
       "      <td>IntelliJ IDEA;Vim;Visual Studio Code;WebStorm</td>\n",
       "    </tr>\n",
       "    <tr>\n",
       "      <th>2</th>\n",
       "      <td>Web Developer</td>\n",
       "      <td>Bash/Shell (all shells);HTML/CSS;JavaScript;Ru...</td>\n",
       "      <td>BigQuery;Cloud Firestore;PostgreSQL;Redis</td>\n",
       "      <td>Amazon Web Services (AWS);Cloudflare;Google Cloud</td>\n",
       "      <td>Angular;Express;NestJS;Node.js</td>\n",
       "      <td>NaN</td>\n",
       "      <td>Docker;Homebrew;Kubernetes;npm;pnpm;Terraform</td>\n",
       "      <td>Helix;Neovim</td>\n",
       "    </tr>\n",
       "    <tr>\n",
       "      <th>3</th>\n",
       "      <td>Developer, QA or test</td>\n",
       "      <td>C;C++;Python;Rust</td>\n",
       "      <td>Redis</td>\n",
       "      <td>NaN</td>\n",
       "      <td>NaN</td>\n",
       "      <td>NaN</td>\n",
       "      <td>Cargo;CMake;Docker;GNU GCC;Make</td>\n",
       "      <td>Code::Blocks;Sublime Text;Vim;Xcode</td>\n",
       "    </tr>\n",
       "    <tr>\n",
       "      <th>4</th>\n",
       "      <td>Web Developer</td>\n",
       "      <td>Java;Perl;TypeScript</td>\n",
       "      <td>MySQL</td>\n",
       "      <td>NaN</td>\n",
       "      <td>Fastify;Node.js;React</td>\n",
       "      <td>Spring Framework</td>\n",
       "      <td>Kubernetes;Yarn</td>\n",
       "      <td>Visual Studio Code</td>\n",
       "    </tr>\n",
       "  </tbody>\n",
       "</table>\n",
       "</div>"
      ],
      "text/plain": [
       "                 DevType                             LanguageHaveWorkedWith  \\\n",
       "0          Web Developer                         Bash/Shell (all shells);Go   \n",
       "1          Web Developer  Bash/Shell (all shells);HTML/CSS;JavaScript;PH...   \n",
       "2          Web Developer  Bash/Shell (all shells);HTML/CSS;JavaScript;Ru...   \n",
       "3  Developer, QA or test                                  C;C++;Python;Rust   \n",
       "4          Web Developer                               Java;Perl;TypeScript   \n",
       "\n",
       "                      DatabaseHaveWorkedWith  \\\n",
       "0                                        NaN   \n",
       "1                           PostgreSQL;Redis   \n",
       "2  BigQuery;Cloud Firestore;PostgreSQL;Redis   \n",
       "3                                      Redis   \n",
       "4                                      MySQL   \n",
       "\n",
       "                              PlatformHaveWorkedWith  \\\n",
       "0  Amazon Web Services (AWS);Google Cloud;OpenSta...   \n",
       "1                                  Cloudflare;Heroku   \n",
       "2  Amazon Web Services (AWS);Cloudflare;Google Cloud   \n",
       "3                                                NaN   \n",
       "4                                                NaN   \n",
       "\n",
       "                         WebframeHaveWorkedWith MiscTechHaveWorkedWith  \\\n",
       "0                                           NaN                    NaN   \n",
       "1  Node.js;React;Ruby on Rails;Vue.js;WordPress                    NaN   \n",
       "2                Angular;Express;NestJS;Node.js                    NaN   \n",
       "3                                           NaN                    NaN   \n",
       "4                         Fastify;Node.js;React       Spring Framework   \n",
       "\n",
       "                         ToolsTechHaveWorkedWith  \\\n",
       "0               Cargo;Docker;Kubernetes;Make;Nix   \n",
       "1                 Homebrew;npm;Vite;Webpack;Yarn   \n",
       "2  Docker;Homebrew;Kubernetes;npm;pnpm;Terraform   \n",
       "3                Cargo;CMake;Docker;GNU GCC;Make   \n",
       "4                                Kubernetes;Yarn   \n",
       "\n",
       "                    NEWCollabToolsHaveWorkedWith  \n",
       "0                                    Emacs;Helix  \n",
       "1  IntelliJ IDEA;Vim;Visual Studio Code;WebStorm  \n",
       "2                                   Helix;Neovim  \n",
       "3            Code::Blocks;Sublime Text;Vim;Xcode  \n",
       "4                             Visual Studio Code  "
      ]
     },
     "execution_count": 5,
     "metadata": {},
     "output_type": "execute_result"
    }
   ],
   "source": [
    "df.head()"
   ]
  },
  {
   "cell_type": "markdown",
   "id": "57e52b25",
   "metadata": {},
   "source": [
    "### Note\n",
    "- In this dataset, I retained the null values in their original state due to the logic of the data, which allows for the presence of null values. It is possible that the user did not work with any type of databases or did not have any miscellaneous technologies .. etc"
   ]
  },
  {
   "cell_type": "markdown",
   "id": "469a8c67",
   "metadata": {},
   "source": [
    "<span style=\"color:#2929a3;font-size:20px;\">Shape of Dataset </span>"
   ]
  },
  {
   "cell_type": "code",
   "execution_count": 6,
   "id": "2e8f2a2a",
   "metadata": {},
   "outputs": [
    {
     "data": {
      "text/plain": [
       "(38545, 8)"
      ]
     },
     "execution_count": 6,
     "metadata": {},
     "output_type": "execute_result"
    }
   ],
   "source": [
    "df.shape"
   ]
  },
  {
   "cell_type": "markdown",
   "id": "a87edfe7",
   "metadata": {},
   "source": [
    "<span style=\"color:#2929a3;font-size:20px;\">Check Target Value Counts</span>"
   ]
  },
  {
   "cell_type": "code",
   "execution_count": 7,
   "id": "62db9d52",
   "metadata": {},
   "outputs": [
    {
     "data": {
      "text/plain": [
       "DevType\n",
       "Web Developer                           30693\n",
       "Developer, mobile                        2261\n",
       "Engineer, data                           1046\n",
       "DevOps specialist                        1004\n",
       "Database/System Admininstrator            776\n",
       "Data or business analyst                  655\n",
       "Developer, game or graphics               516\n",
       "Developer, QA or test                     453\n",
       "Security professional                     305\n",
       "Blockchain                                287\n",
       "Cloud infrastructure engineer             286\n",
       "Developer, Hardware/Embedded Systems      263\n",
       "Name: count, dtype: int64"
      ]
     },
     "execution_count": 7,
     "metadata": {},
     "output_type": "execute_result"
    }
   ],
   "source": [
    "df['DevType'].value_counts()"
   ]
  },
  {
   "cell_type": "markdown",
   "id": "ef59d907",
   "metadata": {},
   "source": [
    "<span style=\"color:#2929a3;font-size:20px;\">Encode Target</span>"
   ]
  },
  {
   "cell_type": "code",
   "execution_count": 8,
   "id": "b682462c",
   "metadata": {},
   "outputs": [],
   "source": [
    "target_encoder = LabelEncoder()\n",
    "df['DevType'] = target_encoder.fit_transform(df['DevType'])"
   ]
  },
  {
   "cell_type": "markdown",
   "id": "513e4a25",
   "metadata": {},
   "source": [
    "<span style=\"color:#2929a3;font-size:20px;\">Encode Features</span>"
   ]
  },
  {
   "cell_type": "code",
   "execution_count": 9,
   "id": "141bb40d",
   "metadata": {},
   "outputs": [],
   "source": [
    "Objects_dict = {}\n",
    "def Create_Encoded_Features():\n",
    "    global Objects_dict\n",
    "    encoded_dfs = {}\n",
    "    TF_languages = TfidfVectorizer(stop_words='english')\n",
    "    df_languages = pd.DataFrame(TF_languages.fit_transform(df['LanguageHaveWorkedWith'].fillna('NaN')).toarray(), columns=TF_languages.get_feature_names_out())\n",
    "    encoded_dfs['LanguageHaveWorkedWith'] = df_languages\n",
    "    \n",
    "    TF_databases = TfidfVectorizer(stop_words='english')\n",
    "    df_databases = pd.DataFrame(TF_databases.fit_transform(df['DatabaseHaveWorkedWith'].fillna('NaN')).toarray(), columns=TF_databases.get_feature_names_out())\n",
    "    encoded_dfs['DatabaseHaveWorkedWith'] = df_databases\n",
    "    \n",
    "    TF_platforms = TfidfVectorizer(stop_words='english')\n",
    "    df_platforms = pd.DataFrame(TF_platforms.fit_transform(df['PlatformHaveWorkedWith'].fillna('NaN')).toarray(), columns=TF_platforms.get_feature_names_out())\n",
    "    encoded_dfs['PlatformHaveWorkedWith'] = df_platforms\n",
    "    \n",
    "    TF_webframes = TfidfVectorizer(stop_words='english')\n",
    "    df_webframes = pd.DataFrame(TF_webframes.fit_transform(df['WebframeHaveWorkedWith'].fillna('NaN')).toarray(), columns=TF_webframes.get_feature_names_out())\n",
    "    encoded_dfs['WebframeHaveWorkedWith'] = df_webframes\n",
    "    \n",
    "    TF_MiscTech = TfidfVectorizer(stop_words='english')\n",
    "    df_MiscTech = pd.DataFrame(TF_MiscTech.fit_transform(df['MiscTechHaveWorkedWith'].fillna('NaN')).toarray(), columns=TF_MiscTech.get_feature_names_out())\n",
    "    encoded_dfs['MiscTechHaveWorkedWith'] = df_MiscTech\n",
    "    \n",
    "    TF_tools = TfidfVectorizer(stop_words='english')\n",
    "    df_tools = pd.DataFrame(TF_tools.fit_transform(df['ToolsTechHaveWorkedWith'].fillna('NaN')).toarray(), columns=TF_tools.get_feature_names_out())\n",
    "    encoded_dfs['ToolsTechHaveWorkedWith'] = df_tools\n",
    "    \n",
    "    TF_NEWCollabTools = TfidfVectorizer(stop_words='english')\n",
    "    df_NEWCollabTools = pd.DataFrame(TF_NEWCollabTools.fit_transform(df['NEWCollabToolsHaveWorkedWith'].fillna('NaN')).toarray(), columns=TF_NEWCollabTools.get_feature_names_out())\n",
    "    encoded_dfs['NEWCollabToolsHaveWorkedWith'] = df_NEWCollabTools\n",
    "    \n",
    "    res = pd.concat(encoded_dfs, axis=1)\n",
    "    Objects_dict['TF_languages'] = TF_languages\n",
    "    Objects_dict['TF_databases'] = TF_databases\n",
    "    Objects_dict['TF_platforms'] = TF_platforms\n",
    "    Objects_dict['TF_webframes'] = TF_webframes\n",
    "    Objects_dict['TF_MiscTech'] = TF_MiscTech\n",
    "    Objects_dict['TF_tools'] = TF_tools\n",
    "    Objects_dict['TF_NEWCollabTools'] = TF_NEWCollabTools\n",
    "    return res"
   ]
  },
  {
   "cell_type": "code",
   "execution_count": 10,
   "id": "fe0124f8",
   "metadata": {},
   "outputs": [],
   "source": [
    "encoded_df = Create_Encoded_Features()"
   ]
  },
  {
   "cell_type": "code",
   "execution_count": 11,
   "id": "a24e9699",
   "metadata": {},
   "outputs": [],
   "source": [
    "encoded_df['DevType'] = df['DevType']"
   ]
  },
  {
   "cell_type": "code",
   "execution_count": 12,
   "id": "c517bee0",
   "metadata": {},
   "outputs": [
    {
     "data": {
      "text/html": [
       "<div>\n",
       "<style scoped>\n",
       "    .dataframe tbody tr th:only-of-type {\n",
       "        vertical-align: middle;\n",
       "    }\n",
       "\n",
       "    .dataframe tbody tr th {\n",
       "        vertical-align: top;\n",
       "    }\n",
       "\n",
       "    .dataframe thead tr th {\n",
       "        text-align: left;\n",
       "    }\n",
       "</style>\n",
       "<table border=\"1\" class=\"dataframe\">\n",
       "  <thead>\n",
       "    <tr>\n",
       "      <th></th>\n",
       "      <th colspan=\"10\" halign=\"left\">LanguageHaveWorkedWith</th>\n",
       "      <th>...</th>\n",
       "      <th colspan=\"9\" halign=\"left\">NEWCollabToolsHaveWorkedWith</th>\n",
       "      <th>DevType</th>\n",
       "    </tr>\n",
       "    <tr>\n",
       "      <th></th>\n",
       "      <th>ada</th>\n",
       "      <th>apex</th>\n",
       "      <th>apl</th>\n",
       "      <th>assembly</th>\n",
       "      <th>bash</th>\n",
       "      <th>basic</th>\n",
       "      <th>clojure</th>\n",
       "      <th>cobol</th>\n",
       "      <th>crystal</th>\n",
       "      <th>css</th>\n",
       "      <th>...</th>\n",
       "      <th>studio</th>\n",
       "      <th>sublime</th>\n",
       "      <th>text</th>\n",
       "      <th>textmate</th>\n",
       "      <th>vim</th>\n",
       "      <th>visual</th>\n",
       "      <th>vscodium</th>\n",
       "      <th>webstorm</th>\n",
       "      <th>xcode</th>\n",
       "      <th></th>\n",
       "    </tr>\n",
       "  </thead>\n",
       "  <tbody>\n",
       "    <tr>\n",
       "      <th>0</th>\n",
       "      <td>0.0</td>\n",
       "      <td>0.0</td>\n",
       "      <td>0.0</td>\n",
       "      <td>0.0</td>\n",
       "      <td>0.577350</td>\n",
       "      <td>0.0</td>\n",
       "      <td>0.0</td>\n",
       "      <td>0.0</td>\n",
       "      <td>0.0</td>\n",
       "      <td>0.000000</td>\n",
       "      <td>...</td>\n",
       "      <td>0.000000</td>\n",
       "      <td>0.000000</td>\n",
       "      <td>0.000000</td>\n",
       "      <td>0.0</td>\n",
       "      <td>0.000000</td>\n",
       "      <td>0.000000</td>\n",
       "      <td>0.0</td>\n",
       "      <td>0.00000</td>\n",
       "      <td>0.000000</td>\n",
       "      <td>11</td>\n",
       "    </tr>\n",
       "    <tr>\n",
       "      <th>1</th>\n",
       "      <td>0.0</td>\n",
       "      <td>0.0</td>\n",
       "      <td>0.0</td>\n",
       "      <td>0.0</td>\n",
       "      <td>0.317944</td>\n",
       "      <td>0.0</td>\n",
       "      <td>0.0</td>\n",
       "      <td>0.0</td>\n",
       "      <td>0.0</td>\n",
       "      <td>0.232598</td>\n",
       "      <td>...</td>\n",
       "      <td>0.195961</td>\n",
       "      <td>0.000000</td>\n",
       "      <td>0.000000</td>\n",
       "      <td>0.0</td>\n",
       "      <td>0.438451</td>\n",
       "      <td>0.202721</td>\n",
       "      <td>0.0</td>\n",
       "      <td>0.62268</td>\n",
       "      <td>0.000000</td>\n",
       "      <td>11</td>\n",
       "    </tr>\n",
       "    <tr>\n",
       "      <th>2</th>\n",
       "      <td>0.0</td>\n",
       "      <td>0.0</td>\n",
       "      <td>0.0</td>\n",
       "      <td>0.0</td>\n",
       "      <td>0.345199</td>\n",
       "      <td>0.0</td>\n",
       "      <td>0.0</td>\n",
       "      <td>0.0</td>\n",
       "      <td>0.0</td>\n",
       "      <td>0.252536</td>\n",
       "      <td>...</td>\n",
       "      <td>0.000000</td>\n",
       "      <td>0.000000</td>\n",
       "      <td>0.000000</td>\n",
       "      <td>0.0</td>\n",
       "      <td>0.000000</td>\n",
       "      <td>0.000000</td>\n",
       "      <td>0.0</td>\n",
       "      <td>0.00000</td>\n",
       "      <td>0.000000</td>\n",
       "      <td>11</td>\n",
       "    </tr>\n",
       "    <tr>\n",
       "      <th>3</th>\n",
       "      <td>0.0</td>\n",
       "      <td>0.0</td>\n",
       "      <td>0.0</td>\n",
       "      <td>0.0</td>\n",
       "      <td>0.000000</td>\n",
       "      <td>0.0</td>\n",
       "      <td>0.0</td>\n",
       "      <td>0.0</td>\n",
       "      <td>0.0</td>\n",
       "      <td>0.000000</td>\n",
       "      <td>...</td>\n",
       "      <td>0.000000</td>\n",
       "      <td>0.371879</td>\n",
       "      <td>0.371879</td>\n",
       "      <td>0.0</td>\n",
       "      <td>0.308942</td>\n",
       "      <td>0.000000</td>\n",
       "      <td>0.0</td>\n",
       "      <td>0.00000</td>\n",
       "      <td>0.401176</td>\n",
       "      <td>6</td>\n",
       "    </tr>\n",
       "    <tr>\n",
       "      <th>4</th>\n",
       "      <td>0.0</td>\n",
       "      <td>0.0</td>\n",
       "      <td>0.0</td>\n",
       "      <td>0.0</td>\n",
       "      <td>0.000000</td>\n",
       "      <td>0.0</td>\n",
       "      <td>0.0</td>\n",
       "      <td>0.0</td>\n",
       "      <td>0.0</td>\n",
       "      <td>0.000000</td>\n",
       "      <td>...</td>\n",
       "      <td>0.554801</td>\n",
       "      <td>0.000000</td>\n",
       "      <td>0.000000</td>\n",
       "      <td>0.0</td>\n",
       "      <td>0.000000</td>\n",
       "      <td>0.573941</td>\n",
       "      <td>0.0</td>\n",
       "      <td>0.00000</td>\n",
       "      <td>0.000000</td>\n",
       "      <td>11</td>\n",
       "    </tr>\n",
       "    <tr>\n",
       "      <th>...</th>\n",
       "      <td>...</td>\n",
       "      <td>...</td>\n",
       "      <td>...</td>\n",
       "      <td>...</td>\n",
       "      <td>...</td>\n",
       "      <td>...</td>\n",
       "      <td>...</td>\n",
       "      <td>...</td>\n",
       "      <td>...</td>\n",
       "      <td>...</td>\n",
       "      <td>...</td>\n",
       "      <td>...</td>\n",
       "      <td>...</td>\n",
       "      <td>...</td>\n",
       "      <td>...</td>\n",
       "      <td>...</td>\n",
       "      <td>...</td>\n",
       "      <td>...</td>\n",
       "      <td>...</td>\n",
       "      <td>...</td>\n",
       "      <td>...</td>\n",
       "    </tr>\n",
       "    <tr>\n",
       "      <th>38540</th>\n",
       "      <td>0.0</td>\n",
       "      <td>0.0</td>\n",
       "      <td>0.0</td>\n",
       "      <td>0.0</td>\n",
       "      <td>0.223604</td>\n",
       "      <td>0.0</td>\n",
       "      <td>0.0</td>\n",
       "      <td>0.0</td>\n",
       "      <td>0.0</td>\n",
       "      <td>0.163582</td>\n",
       "      <td>...</td>\n",
       "      <td>0.000000</td>\n",
       "      <td>0.000000</td>\n",
       "      <td>0.000000</td>\n",
       "      <td>0.0</td>\n",
       "      <td>1.000000</td>\n",
       "      <td>0.000000</td>\n",
       "      <td>0.0</td>\n",
       "      <td>0.00000</td>\n",
       "      <td>0.000000</td>\n",
       "      <td>11</td>\n",
       "    </tr>\n",
       "    <tr>\n",
       "      <th>38541</th>\n",
       "      <td>0.0</td>\n",
       "      <td>0.0</td>\n",
       "      <td>0.0</td>\n",
       "      <td>0.0</td>\n",
       "      <td>0.000000</td>\n",
       "      <td>0.0</td>\n",
       "      <td>0.0</td>\n",
       "      <td>0.0</td>\n",
       "      <td>0.0</td>\n",
       "      <td>0.511641</td>\n",
       "      <td>...</td>\n",
       "      <td>0.367583</td>\n",
       "      <td>0.000000</td>\n",
       "      <td>0.000000</td>\n",
       "      <td>0.0</td>\n",
       "      <td>0.000000</td>\n",
       "      <td>0.380264</td>\n",
       "      <td>0.0</td>\n",
       "      <td>0.00000</td>\n",
       "      <td>0.000000</td>\n",
       "      <td>11</td>\n",
       "    </tr>\n",
       "    <tr>\n",
       "      <th>38542</th>\n",
       "      <td>0.0</td>\n",
       "      <td>0.0</td>\n",
       "      <td>0.0</td>\n",
       "      <td>0.0</td>\n",
       "      <td>0.000000</td>\n",
       "      <td>0.0</td>\n",
       "      <td>0.0</td>\n",
       "      <td>0.0</td>\n",
       "      <td>0.0</td>\n",
       "      <td>0.000000</td>\n",
       "      <td>...</td>\n",
       "      <td>0.350208</td>\n",
       "      <td>0.000000</td>\n",
       "      <td>0.000000</td>\n",
       "      <td>0.0</td>\n",
       "      <td>0.000000</td>\n",
       "      <td>0.241526</td>\n",
       "      <td>0.0</td>\n",
       "      <td>0.00000</td>\n",
       "      <td>0.000000</td>\n",
       "      <td>8</td>\n",
       "    </tr>\n",
       "    <tr>\n",
       "      <th>38543</th>\n",
       "      <td>0.0</td>\n",
       "      <td>0.0</td>\n",
       "      <td>0.0</td>\n",
       "      <td>0.0</td>\n",
       "      <td>0.000000</td>\n",
       "      <td>0.0</td>\n",
       "      <td>0.0</td>\n",
       "      <td>0.0</td>\n",
       "      <td>0.0</td>\n",
       "      <td>0.000000</td>\n",
       "      <td>...</td>\n",
       "      <td>0.214398</td>\n",
       "      <td>0.000000</td>\n",
       "      <td>0.000000</td>\n",
       "      <td>0.0</td>\n",
       "      <td>0.000000</td>\n",
       "      <td>0.221795</td>\n",
       "      <td>0.0</td>\n",
       "      <td>0.00000</td>\n",
       "      <td>0.000000</td>\n",
       "      <td>11</td>\n",
       "    </tr>\n",
       "    <tr>\n",
       "      <th>38544</th>\n",
       "      <td>0.0</td>\n",
       "      <td>0.0</td>\n",
       "      <td>0.0</td>\n",
       "      <td>0.0</td>\n",
       "      <td>0.000000</td>\n",
       "      <td>0.0</td>\n",
       "      <td>0.0</td>\n",
       "      <td>0.0</td>\n",
       "      <td>0.0</td>\n",
       "      <td>0.000000</td>\n",
       "      <td>...</td>\n",
       "      <td>0.209176</td>\n",
       "      <td>0.000000</td>\n",
       "      <td>0.000000</td>\n",
       "      <td>0.0</td>\n",
       "      <td>0.000000</td>\n",
       "      <td>0.000000</td>\n",
       "      <td>0.0</td>\n",
       "      <td>0.00000</td>\n",
       "      <td>0.000000</td>\n",
       "      <td>11</td>\n",
       "    </tr>\n",
       "  </tbody>\n",
       "</table>\n",
       "<p>38545 rows × 323 columns</p>\n",
       "</div>"
      ],
      "text/plain": [
       "      LanguageHaveWorkedWith                                                   \\\n",
       "                         ada apex  apl assembly      bash basic clojure cobol   \n",
       "0                        0.0  0.0  0.0      0.0  0.577350   0.0     0.0   0.0   \n",
       "1                        0.0  0.0  0.0      0.0  0.317944   0.0     0.0   0.0   \n",
       "2                        0.0  0.0  0.0      0.0  0.345199   0.0     0.0   0.0   \n",
       "3                        0.0  0.0  0.0      0.0  0.000000   0.0     0.0   0.0   \n",
       "4                        0.0  0.0  0.0      0.0  0.000000   0.0     0.0   0.0   \n",
       "...                      ...  ...  ...      ...       ...   ...     ...   ...   \n",
       "38540                    0.0  0.0  0.0      0.0  0.223604   0.0     0.0   0.0   \n",
       "38541                    0.0  0.0  0.0      0.0  0.000000   0.0     0.0   0.0   \n",
       "38542                    0.0  0.0  0.0      0.0  0.000000   0.0     0.0   0.0   \n",
       "38543                    0.0  0.0  0.0      0.0  0.000000   0.0     0.0   0.0   \n",
       "38544                    0.0  0.0  0.0      0.0  0.000000   0.0     0.0   0.0   \n",
       "\n",
       "                         ... NEWCollabToolsHaveWorkedWith                      \\\n",
       "      crystal       css  ...                       studio   sublime      text   \n",
       "0         0.0  0.000000  ...                     0.000000  0.000000  0.000000   \n",
       "1         0.0  0.232598  ...                     0.195961  0.000000  0.000000   \n",
       "2         0.0  0.252536  ...                     0.000000  0.000000  0.000000   \n",
       "3         0.0  0.000000  ...                     0.000000  0.371879  0.371879   \n",
       "4         0.0  0.000000  ...                     0.554801  0.000000  0.000000   \n",
       "...       ...       ...  ...                          ...       ...       ...   \n",
       "38540     0.0  0.163582  ...                     0.000000  0.000000  0.000000   \n",
       "38541     0.0  0.511641  ...                     0.367583  0.000000  0.000000   \n",
       "38542     0.0  0.000000  ...                     0.350208  0.000000  0.000000   \n",
       "38543     0.0  0.000000  ...                     0.214398  0.000000  0.000000   \n",
       "38544     0.0  0.000000  ...                     0.209176  0.000000  0.000000   \n",
       "\n",
       "                                                               DevType  \n",
       "      textmate       vim    visual vscodium webstorm     xcode          \n",
       "0          0.0  0.000000  0.000000      0.0  0.00000  0.000000      11  \n",
       "1          0.0  0.438451  0.202721      0.0  0.62268  0.000000      11  \n",
       "2          0.0  0.000000  0.000000      0.0  0.00000  0.000000      11  \n",
       "3          0.0  0.308942  0.000000      0.0  0.00000  0.401176       6  \n",
       "4          0.0  0.000000  0.573941      0.0  0.00000  0.000000      11  \n",
       "...        ...       ...       ...      ...      ...       ...     ...  \n",
       "38540      0.0  1.000000  0.000000      0.0  0.00000  0.000000      11  \n",
       "38541      0.0  0.000000  0.380264      0.0  0.00000  0.000000      11  \n",
       "38542      0.0  0.000000  0.241526      0.0  0.00000  0.000000       8  \n",
       "38543      0.0  0.000000  0.221795      0.0  0.00000  0.000000      11  \n",
       "38544      0.0  0.000000  0.000000      0.0  0.00000  0.000000      11  \n",
       "\n",
       "[38545 rows x 323 columns]"
      ]
     },
     "execution_count": 12,
     "metadata": {},
     "output_type": "execute_result"
    }
   ],
   "source": [
    "encoded_df"
   ]
  },
  {
   "cell_type": "markdown",
   "id": "e261f35b",
   "metadata": {},
   "source": [
    "<span style=\"color:#2929a3;font-size:20px;\">Split Data to X and Y</span>"
   ]
  },
  {
   "cell_type": "code",
   "execution_count": 13,
   "id": "abee7722",
   "metadata": {},
   "outputs": [],
   "source": [
    "x = encoded_df.drop('DevType', axis=1)\n",
    "y = encoded_df['DevType']"
   ]
  },
  {
   "cell_type": "markdown",
   "id": "93e2a1d6",
   "metadata": {},
   "source": [
    "<span style=\"color:#2929a3;font-size:20px;\">Model Selection Process</span>"
   ]
  },
  {
   "cell_type": "code",
   "execution_count": 14,
   "id": "9d2abac8",
   "metadata": {},
   "outputs": [],
   "source": [
    "Models = []\n",
    "Models.append(('Logistic Regression',LogisticRegression(max_iter=10000)))\n",
    "Models.append(('Knn',KNeighborsClassifier()))\n",
    "Models.append(('MultinomialNB',MultinomialNB()))\n",
    "Models.append(('GaussianNB',GaussianNB()))\n",
    "Models.append(('BernoulliNB',BernoulliNB()))\n",
    "Models.append(('Decision Tree', DecisionTreeClassifier()))\n",
    "Models.append(('Random Forest',RandomForestClassifier()))\n",
    "Models.append(('Voting Classifier',VotingClassifier(estimators=[('Logistic Regression',LogisticRegression(max_iter=10000)), ('Knn',KNeighborsClassifier()), ('MultinomialNB',MultinomialNB()), ('GaussianNB',GaussianNB()), ('Decision Tree', DecisionTreeClassifier()), ('Random Forest',RandomForestClassifier())])))\n",
    "Models.append(('XGBoost',XGBClassifier()))"
   ]
  },
  {
   "cell_type": "code",
   "execution_count": 15,
   "id": "aeb25716",
   "metadata": {
    "scrolled": true
   },
   "outputs": [
    {
     "data": {
      "text/plain": [
       "DevType\n",
       "11    30693\n",
       "8      2261\n",
       "9      1046\n",
       "4      1004\n",
       "3       776\n",
       "2       655\n",
       "7       516\n",
       "6       453\n",
       "10      305\n",
       "0       287\n",
       "1       286\n",
       "5       263\n",
       "Name: count, dtype: int64"
      ]
     },
     "execution_count": 15,
     "metadata": {},
     "output_type": "execute_result"
    }
   ],
   "source": [
    "y.value_counts()"
   ]
  },
  {
   "cell_type": "code",
   "execution_count": 119,
   "id": "d284841d",
   "metadata": {},
   "outputs": [
    {
     "name": "stdout",
     "output_type": "stream",
     "text": [
      "Train Accuracy of Logistic Regression is  0.651355558438189\n",
      "Test Accuracy of Logistic Regression is  0.6332598261771955\n",
      "**********************************************************************\n",
      "Train Accuracy of Knn is  0.4078609417563886\n",
      "Test Accuracy of Knn is  0.3567777921909457\n",
      "**********************************************************************\n",
      "Train Accuracy of MultinomialNB is  0.5318523803346739\n",
      "Test Accuracy of MultinomialNB is  0.5262679984433778\n",
      "**********************************************************************\n",
      "Train Accuracy of GaussianNB is  0.07579452587884292\n",
      "Test Accuracy of GaussianNB is  0.06929562848618499\n",
      "**********************************************************************\n",
      "Train Accuracy of BernoulliNB is  0.5573744973407705\n",
      "Test Accuracy of BernoulliNB is  0.5535867168244909\n",
      "**********************************************************************\n",
      "Train Accuracy of Decision Tree is  0.6442923855234142\n",
      "Test Accuracy of Decision Tree is  0.5276170709560254\n",
      "**********************************************************************\n",
      "Train Accuracy of Random Forest is  0.834608898689843\n",
      "Test Accuracy of Random Forest is  0.7509664029056946\n",
      "**********************************************************************\n",
      "Train Accuracy of Voting Classifier is  0.6668958360358024\n",
      "Test Accuracy of Voting Classifier is  0.611026073420677\n",
      "**********************************************************************\n",
      "Train Accuracy of XGBoost is  0.8071474899468155\n",
      "Test Accuracy of XGBoost is  0.7320534440264626\n",
      "**********************************************************************\n"
     ]
    }
   ],
   "source": [
    "for model in Models:\n",
    "    steps = []\n",
    "    steps.append(('Scaler', MinMaxScaler()))\n",
    "    steps.append(('UnderSampling',TomekLinks()))\n",
    "    steps.append(('UnderSampling2',RandomUnderSampler(sampling_strategy={11:2000, 8:1500})))\n",
    "    steps.append(('OverSampling', SMOTETomek(sampling_strategy={0:1000, 1:1000, 5:1000, 10:1000, 6:1000, 7:1000, 2:1000, 3:1000})))\n",
    "    #steps.append(('PCA',PCA(n_components=0.90)))\n",
    "    steps.append(model)\n",
    "    pipeline = imb_Pipeline(steps=steps)\n",
    "    res = cross_validate(pipeline , x, y, scoring='accuracy', cv=5, return_train_score=True, n_jobs=-1)\n",
    "    print(f\"Train Accuracy of {model[0]} is \",res['train_score'].mean())\n",
    "    print(f\"Test Accuracy of {model[0]} is \",res['test_score'].mean())\n",
    "    print(\"*\" * 70)"
   ]
  },
  {
   "cell_type": "markdown",
   "id": "b895e774",
   "metadata": {},
   "source": [
    "<span style=\"color:#2929a3;font-size:20px;\">Create RandomForest Pipeline</span>"
   ]
  },
  {
   "cell_type": "code",
   "execution_count": 26,
   "id": "5aef08fd",
   "metadata": {},
   "outputs": [
    {
     "data": {
      "text/html": [
       "<style>#sk-container-id-3 {color: black;background-color: white;}#sk-container-id-3 pre{padding: 0;}#sk-container-id-3 div.sk-toggleable {background-color: white;}#sk-container-id-3 label.sk-toggleable__label {cursor: pointer;display: block;width: 100%;margin-bottom: 0;padding: 0.3em;box-sizing: border-box;text-align: center;}#sk-container-id-3 label.sk-toggleable__label-arrow:before {content: \"▸\";float: left;margin-right: 0.25em;color: #696969;}#sk-container-id-3 label.sk-toggleable__label-arrow:hover:before {color: black;}#sk-container-id-3 div.sk-estimator:hover label.sk-toggleable__label-arrow:before {color: black;}#sk-container-id-3 div.sk-toggleable__content {max-height: 0;max-width: 0;overflow: hidden;text-align: left;background-color: #f0f8ff;}#sk-container-id-3 div.sk-toggleable__content pre {margin: 0.2em;color: black;border-radius: 0.25em;background-color: #f0f8ff;}#sk-container-id-3 input.sk-toggleable__control:checked~div.sk-toggleable__content {max-height: 200px;max-width: 100%;overflow: auto;}#sk-container-id-3 input.sk-toggleable__control:checked~label.sk-toggleable__label-arrow:before {content: \"▾\";}#sk-container-id-3 div.sk-estimator input.sk-toggleable__control:checked~label.sk-toggleable__label {background-color: #d4ebff;}#sk-container-id-3 div.sk-label input.sk-toggleable__control:checked~label.sk-toggleable__label {background-color: #d4ebff;}#sk-container-id-3 input.sk-hidden--visually {border: 0;clip: rect(1px 1px 1px 1px);clip: rect(1px, 1px, 1px, 1px);height: 1px;margin: -1px;overflow: hidden;padding: 0;position: absolute;width: 1px;}#sk-container-id-3 div.sk-estimator {font-family: monospace;background-color: #f0f8ff;border: 1px dotted black;border-radius: 0.25em;box-sizing: border-box;margin-bottom: 0.5em;}#sk-container-id-3 div.sk-estimator:hover {background-color: #d4ebff;}#sk-container-id-3 div.sk-parallel-item::after {content: \"\";width: 100%;border-bottom: 1px solid gray;flex-grow: 1;}#sk-container-id-3 div.sk-label:hover label.sk-toggleable__label {background-color: #d4ebff;}#sk-container-id-3 div.sk-serial::before {content: \"\";position: absolute;border-left: 1px solid gray;box-sizing: border-box;top: 0;bottom: 0;left: 50%;z-index: 0;}#sk-container-id-3 div.sk-serial {display: flex;flex-direction: column;align-items: center;background-color: white;padding-right: 0.2em;padding-left: 0.2em;position: relative;}#sk-container-id-3 div.sk-item {position: relative;z-index: 1;}#sk-container-id-3 div.sk-parallel {display: flex;align-items: stretch;justify-content: center;background-color: white;position: relative;}#sk-container-id-3 div.sk-item::before, #sk-container-id-3 div.sk-parallel-item::before {content: \"\";position: absolute;border-left: 1px solid gray;box-sizing: border-box;top: 0;bottom: 0;left: 50%;z-index: -1;}#sk-container-id-3 div.sk-parallel-item {display: flex;flex-direction: column;z-index: 1;position: relative;background-color: white;}#sk-container-id-3 div.sk-parallel-item:first-child::after {align-self: flex-end;width: 50%;}#sk-container-id-3 div.sk-parallel-item:last-child::after {align-self: flex-start;width: 50%;}#sk-container-id-3 div.sk-parallel-item:only-child::after {width: 0;}#sk-container-id-3 div.sk-dashed-wrapped {border: 1px dashed gray;margin: 0 0.4em 0.5em 0.4em;box-sizing: border-box;padding-bottom: 0.4em;background-color: white;}#sk-container-id-3 div.sk-label label {font-family: monospace;font-weight: bold;display: inline-block;line-height: 1.2em;}#sk-container-id-3 div.sk-label-container {text-align: center;}#sk-container-id-3 div.sk-container {/* jupyter's `normalize.less` sets `[hidden] { display: none; }` but bootstrap.min.css set `[hidden] { display: none !important; }` so we also need the `!important` here to be able to override the default hidden behavior on the sphinx rendered scikit-learn.org. See: https://github.com/scikit-learn/scikit-learn/issues/21755 */display: inline-block !important;position: relative;}#sk-container-id-3 div.sk-text-repr-fallback {display: none;}</style><div id=\"sk-container-id-3\" class=\"sk-top-container\"><div class=\"sk-text-repr-fallback\"><pre>Pipeline(steps=[(&#x27;Scaler&#x27;, MinMaxScaler()), (&#x27;UnderSampling&#x27;, TomekLinks()),\n",
       "                (&#x27;UnderSampling2&#x27;,\n",
       "                 RandomUnderSampler(sampling_strategy={8: 1500, 11: 2000})),\n",
       "                (&#x27;OverSampling&#x27;,\n",
       "                 SMOTETomek(sampling_strategy={0: 1000, 1: 1000, 2: 1000,\n",
       "                                               3: 1000, 5: 1000, 6: 1000,\n",
       "                                               7: 1000, 10: 1000})),\n",
       "                (&#x27;Model&#x27;, RandomForestClassifier())])</pre><b>In a Jupyter environment, please rerun this cell to show the HTML representation or trust the notebook. <br />On GitHub, the HTML representation is unable to render, please try loading this page with nbviewer.org.</b></div><div class=\"sk-container\" hidden><div class=\"sk-item sk-dashed-wrapped\"><div class=\"sk-label-container\"><div class=\"sk-label sk-toggleable\"><input class=\"sk-toggleable__control sk-hidden--visually\" id=\"sk-estimator-id-16\" type=\"checkbox\" ><label for=\"sk-estimator-id-16\" class=\"sk-toggleable__label sk-toggleable__label-arrow\">Pipeline</label><div class=\"sk-toggleable__content\"><pre>Pipeline(steps=[(&#x27;Scaler&#x27;, MinMaxScaler()), (&#x27;UnderSampling&#x27;, TomekLinks()),\n",
       "                (&#x27;UnderSampling2&#x27;,\n",
       "                 RandomUnderSampler(sampling_strategy={8: 1500, 11: 2000})),\n",
       "                (&#x27;OverSampling&#x27;,\n",
       "                 SMOTETomek(sampling_strategy={0: 1000, 1: 1000, 2: 1000,\n",
       "                                               3: 1000, 5: 1000, 6: 1000,\n",
       "                                               7: 1000, 10: 1000})),\n",
       "                (&#x27;Model&#x27;, RandomForestClassifier())])</pre></div></div></div><div class=\"sk-serial\"><div class=\"sk-item\"><div class=\"sk-estimator sk-toggleable\"><input class=\"sk-toggleable__control sk-hidden--visually\" id=\"sk-estimator-id-17\" type=\"checkbox\" ><label for=\"sk-estimator-id-17\" class=\"sk-toggleable__label sk-toggleable__label-arrow\">MinMaxScaler</label><div class=\"sk-toggleable__content\"><pre>MinMaxScaler()</pre></div></div></div><div class=\"sk-item\"><div class=\"sk-estimator sk-toggleable\"><input class=\"sk-toggleable__control sk-hidden--visually\" id=\"sk-estimator-id-18\" type=\"checkbox\" ><label for=\"sk-estimator-id-18\" class=\"sk-toggleable__label sk-toggleable__label-arrow\">TomekLinks</label><div class=\"sk-toggleable__content\"><pre>TomekLinks()</pre></div></div></div><div class=\"sk-item\"><div class=\"sk-estimator sk-toggleable\"><input class=\"sk-toggleable__control sk-hidden--visually\" id=\"sk-estimator-id-19\" type=\"checkbox\" ><label for=\"sk-estimator-id-19\" class=\"sk-toggleable__label sk-toggleable__label-arrow\">RandomUnderSampler</label><div class=\"sk-toggleable__content\"><pre>RandomUnderSampler(sampling_strategy={8: 1500, 11: 2000})</pre></div></div></div><div class=\"sk-item\"><div class=\"sk-estimator sk-toggleable\"><input class=\"sk-toggleable__control sk-hidden--visually\" id=\"sk-estimator-id-20\" type=\"checkbox\" ><label for=\"sk-estimator-id-20\" class=\"sk-toggleable__label sk-toggleable__label-arrow\">SMOTETomek</label><div class=\"sk-toggleable__content\"><pre>SMOTETomek(sampling_strategy={0: 1000, 1: 1000, 2: 1000, 3: 1000, 5: 1000,\n",
       "                              6: 1000, 7: 1000, 10: 1000})</pre></div></div></div><div class=\"sk-item\"><div class=\"sk-estimator sk-toggleable\"><input class=\"sk-toggleable__control sk-hidden--visually\" id=\"sk-estimator-id-21\" type=\"checkbox\" ><label for=\"sk-estimator-id-21\" class=\"sk-toggleable__label sk-toggleable__label-arrow\">RandomForestClassifier</label><div class=\"sk-toggleable__content\"><pre>RandomForestClassifier()</pre></div></div></div></div></div></div></div>"
      ],
      "text/plain": [
       "Pipeline(steps=[('Scaler', MinMaxScaler()), ('UnderSampling', TomekLinks()),\n",
       "                ('UnderSampling2',\n",
       "                 RandomUnderSampler(sampling_strategy={8: 1500, 11: 2000})),\n",
       "                ('OverSampling',\n",
       "                 SMOTETomek(sampling_strategy={0: 1000, 1: 1000, 2: 1000,\n",
       "                                               3: 1000, 5: 1000, 6: 1000,\n",
       "                                               7: 1000, 10: 1000})),\n",
       "                ('Model', RandomForestClassifier())])"
      ]
     },
     "execution_count": 26,
     "metadata": {},
     "output_type": "execute_result"
    }
   ],
   "source": [
    "steps = []\n",
    "steps.append(('Scaler', MinMaxScaler()))\n",
    "steps.append(('UnderSampling',TomekLinks()))\n",
    "steps.append(('UnderSampling2',RandomUnderSampler(sampling_strategy={11:2000, 8:1500})))\n",
    "steps.append(('OverSampling', SMOTETomek(sampling_strategy={0:1000, 1:1000, 5:1000, 10:1000, 6:1000, 7:1000, 2:1000, 3:1000})))\n",
    "steps.append(('Model',RandomForestClassifier()))\n",
    "pipeline = imb_Pipeline(steps=steps)\n",
    "pipeline.fit(x,y)"
   ]
  },
  {
   "cell_type": "markdown",
   "id": "5362ab20",
   "metadata": {},
   "source": [
    "<span style=\"color:#2929a3;font-size:20px;\">Hyperparameter Tuning</span>"
   ]
  },
  {
   "cell_type": "code",
   "execution_count": 27,
   "id": "b6b25c56",
   "metadata": {},
   "outputs": [],
   "source": [
    "from sklearn.model_selection import GridSearchCV"
   ]
  },
  {
   "cell_type": "code",
   "execution_count": 57,
   "id": "eaec12d5",
   "metadata": {},
   "outputs": [],
   "source": [
    "param = [\n",
    "    {'Model__criterion':['gini','entropy'],\n",
    "     'Model__max_depth':[25,30,35],\n",
    "     'Model__min_samples_split':[3,4,5],\n",
    "     'Model__n_estimators':[150,160,170]}\n",
    "]"
   ]
  },
  {
   "cell_type": "code",
   "execution_count": 58,
   "id": "b00af618",
   "metadata": {},
   "outputs": [],
   "source": [
    "grid = GridSearchCV(estimator=pipeline, param_grid=param, cv=5, scoring='accuracy' , return_train_score=True, n_jobs=-1)"
   ]
  },
  {
   "cell_type": "code",
   "execution_count": 70,
   "id": "39058fa1",
   "metadata": {},
   "outputs": [],
   "source": [
    "grid.fit(x,y)"
   ]
  },
  {
   "cell_type": "code",
   "execution_count": 71,
   "id": "c643070b",
   "metadata": {},
   "outputs": [],
   "source": [
    "grid.best_params_"
   ]
  },
  {
   "cell_type": "code",
   "execution_count": 74,
   "id": "d694b32c",
   "metadata": {},
   "outputs": [],
   "source": [
    "grid.best_score_"
   ]
  },
  {
   "cell_type": "markdown",
   "id": "cc6a0e2b",
   "metadata": {},
   "source": [
    "<span style=\"color:#2929a3;font-size:20px;\">Create Final Pipeline</span>"
   ]
  },
  {
   "cell_type": "code",
   "execution_count": 35,
   "id": "ee7b407e",
   "metadata": {},
   "outputs": [
    {
     "data": {
      "text/html": [
       "<style>#sk-container-id-1 {color: black;background-color: white;}#sk-container-id-1 pre{padding: 0;}#sk-container-id-1 div.sk-toggleable {background-color: white;}#sk-container-id-1 label.sk-toggleable__label {cursor: pointer;display: block;width: 100%;margin-bottom: 0;padding: 0.3em;box-sizing: border-box;text-align: center;}#sk-container-id-1 label.sk-toggleable__label-arrow:before {content: \"▸\";float: left;margin-right: 0.25em;color: #696969;}#sk-container-id-1 label.sk-toggleable__label-arrow:hover:before {color: black;}#sk-container-id-1 div.sk-estimator:hover label.sk-toggleable__label-arrow:before {color: black;}#sk-container-id-1 div.sk-toggleable__content {max-height: 0;max-width: 0;overflow: hidden;text-align: left;background-color: #f0f8ff;}#sk-container-id-1 div.sk-toggleable__content pre {margin: 0.2em;color: black;border-radius: 0.25em;background-color: #f0f8ff;}#sk-container-id-1 input.sk-toggleable__control:checked~div.sk-toggleable__content {max-height: 200px;max-width: 100%;overflow: auto;}#sk-container-id-1 input.sk-toggleable__control:checked~label.sk-toggleable__label-arrow:before {content: \"▾\";}#sk-container-id-1 div.sk-estimator input.sk-toggleable__control:checked~label.sk-toggleable__label {background-color: #d4ebff;}#sk-container-id-1 div.sk-label input.sk-toggleable__control:checked~label.sk-toggleable__label {background-color: #d4ebff;}#sk-container-id-1 input.sk-hidden--visually {border: 0;clip: rect(1px 1px 1px 1px);clip: rect(1px, 1px, 1px, 1px);height: 1px;margin: -1px;overflow: hidden;padding: 0;position: absolute;width: 1px;}#sk-container-id-1 div.sk-estimator {font-family: monospace;background-color: #f0f8ff;border: 1px dotted black;border-radius: 0.25em;box-sizing: border-box;margin-bottom: 0.5em;}#sk-container-id-1 div.sk-estimator:hover {background-color: #d4ebff;}#sk-container-id-1 div.sk-parallel-item::after {content: \"\";width: 100%;border-bottom: 1px solid gray;flex-grow: 1;}#sk-container-id-1 div.sk-label:hover label.sk-toggleable__label {background-color: #d4ebff;}#sk-container-id-1 div.sk-serial::before {content: \"\";position: absolute;border-left: 1px solid gray;box-sizing: border-box;top: 0;bottom: 0;left: 50%;z-index: 0;}#sk-container-id-1 div.sk-serial {display: flex;flex-direction: column;align-items: center;background-color: white;padding-right: 0.2em;padding-left: 0.2em;position: relative;}#sk-container-id-1 div.sk-item {position: relative;z-index: 1;}#sk-container-id-1 div.sk-parallel {display: flex;align-items: stretch;justify-content: center;background-color: white;position: relative;}#sk-container-id-1 div.sk-item::before, #sk-container-id-1 div.sk-parallel-item::before {content: \"\";position: absolute;border-left: 1px solid gray;box-sizing: border-box;top: 0;bottom: 0;left: 50%;z-index: -1;}#sk-container-id-1 div.sk-parallel-item {display: flex;flex-direction: column;z-index: 1;position: relative;background-color: white;}#sk-container-id-1 div.sk-parallel-item:first-child::after {align-self: flex-end;width: 50%;}#sk-container-id-1 div.sk-parallel-item:last-child::after {align-self: flex-start;width: 50%;}#sk-container-id-1 div.sk-parallel-item:only-child::after {width: 0;}#sk-container-id-1 div.sk-dashed-wrapped {border: 1px dashed gray;margin: 0 0.4em 0.5em 0.4em;box-sizing: border-box;padding-bottom: 0.4em;background-color: white;}#sk-container-id-1 div.sk-label label {font-family: monospace;font-weight: bold;display: inline-block;line-height: 1.2em;}#sk-container-id-1 div.sk-label-container {text-align: center;}#sk-container-id-1 div.sk-container {/* jupyter's `normalize.less` sets `[hidden] { display: none; }` but bootstrap.min.css set `[hidden] { display: none !important; }` so we also need the `!important` here to be able to override the default hidden behavior on the sphinx rendered scikit-learn.org. See: https://github.com/scikit-learn/scikit-learn/issues/21755 */display: inline-block !important;position: relative;}#sk-container-id-1 div.sk-text-repr-fallback {display: none;}</style><div id=\"sk-container-id-1\" class=\"sk-top-container\"><div class=\"sk-text-repr-fallback\"><pre>Pipeline(steps=[(&#x27;Scaler&#x27;, MinMaxScaler()), (&#x27;UnderSampling&#x27;, TomekLinks()),\n",
       "                (&#x27;UnderSampling2&#x27;,\n",
       "                 RandomUnderSampler(sampling_strategy={8: 1500, 11: 2000})),\n",
       "                (&#x27;OverSampling&#x27;,\n",
       "                 SMOTETomek(sampling_strategy={0: 1000, 1: 1000, 2: 1000,\n",
       "                                               3: 1000, 5: 1000, 6: 1000,\n",
       "                                               7: 1000, 10: 1000})),\n",
       "                (&#x27;Model&#x27;,\n",
       "                 RandomForestClassifier(criterion=&#x27;entropy&#x27;, max_depth=30,\n",
       "                                        min_samples_split=4,\n",
       "                                        n_estimators=150))])</pre><b>In a Jupyter environment, please rerun this cell to show the HTML representation or trust the notebook. <br />On GitHub, the HTML representation is unable to render, please try loading this page with nbviewer.org.</b></div><div class=\"sk-container\" hidden><div class=\"sk-item sk-dashed-wrapped\"><div class=\"sk-label-container\"><div class=\"sk-label sk-toggleable\"><input class=\"sk-toggleable__control sk-hidden--visually\" id=\"sk-estimator-id-1\" type=\"checkbox\" ><label for=\"sk-estimator-id-1\" class=\"sk-toggleable__label sk-toggleable__label-arrow\">Pipeline</label><div class=\"sk-toggleable__content\"><pre>Pipeline(steps=[(&#x27;Scaler&#x27;, MinMaxScaler()), (&#x27;UnderSampling&#x27;, TomekLinks()),\n",
       "                (&#x27;UnderSampling2&#x27;,\n",
       "                 RandomUnderSampler(sampling_strategy={8: 1500, 11: 2000})),\n",
       "                (&#x27;OverSampling&#x27;,\n",
       "                 SMOTETomek(sampling_strategy={0: 1000, 1: 1000, 2: 1000,\n",
       "                                               3: 1000, 5: 1000, 6: 1000,\n",
       "                                               7: 1000, 10: 1000})),\n",
       "                (&#x27;Model&#x27;,\n",
       "                 RandomForestClassifier(criterion=&#x27;entropy&#x27;, max_depth=30,\n",
       "                                        min_samples_split=4,\n",
       "                                        n_estimators=150))])</pre></div></div></div><div class=\"sk-serial\"><div class=\"sk-item\"><div class=\"sk-estimator sk-toggleable\"><input class=\"sk-toggleable__control sk-hidden--visually\" id=\"sk-estimator-id-2\" type=\"checkbox\" ><label for=\"sk-estimator-id-2\" class=\"sk-toggleable__label sk-toggleable__label-arrow\">MinMaxScaler</label><div class=\"sk-toggleable__content\"><pre>MinMaxScaler()</pre></div></div></div><div class=\"sk-item\"><div class=\"sk-estimator sk-toggleable\"><input class=\"sk-toggleable__control sk-hidden--visually\" id=\"sk-estimator-id-3\" type=\"checkbox\" ><label for=\"sk-estimator-id-3\" class=\"sk-toggleable__label sk-toggleable__label-arrow\">TomekLinks</label><div class=\"sk-toggleable__content\"><pre>TomekLinks()</pre></div></div></div><div class=\"sk-item\"><div class=\"sk-estimator sk-toggleable\"><input class=\"sk-toggleable__control sk-hidden--visually\" id=\"sk-estimator-id-4\" type=\"checkbox\" ><label for=\"sk-estimator-id-4\" class=\"sk-toggleable__label sk-toggleable__label-arrow\">RandomUnderSampler</label><div class=\"sk-toggleable__content\"><pre>RandomUnderSampler(sampling_strategy={8: 1500, 11: 2000})</pre></div></div></div><div class=\"sk-item\"><div class=\"sk-estimator sk-toggleable\"><input class=\"sk-toggleable__control sk-hidden--visually\" id=\"sk-estimator-id-5\" type=\"checkbox\" ><label for=\"sk-estimator-id-5\" class=\"sk-toggleable__label sk-toggleable__label-arrow\">SMOTETomek</label><div class=\"sk-toggleable__content\"><pre>SMOTETomek(sampling_strategy={0: 1000, 1: 1000, 2: 1000, 3: 1000, 5: 1000,\n",
       "                              6: 1000, 7: 1000, 10: 1000})</pre></div></div></div><div class=\"sk-item\"><div class=\"sk-estimator sk-toggleable\"><input class=\"sk-toggleable__control sk-hidden--visually\" id=\"sk-estimator-id-6\" type=\"checkbox\" ><label for=\"sk-estimator-id-6\" class=\"sk-toggleable__label sk-toggleable__label-arrow\">RandomForestClassifier</label><div class=\"sk-toggleable__content\"><pre>RandomForestClassifier(criterion=&#x27;entropy&#x27;, max_depth=30, min_samples_split=4,\n",
       "                       n_estimators=150)</pre></div></div></div></div></div></div></div>"
      ],
      "text/plain": [
       "Pipeline(steps=[('Scaler', MinMaxScaler()), ('UnderSampling', TomekLinks()),\n",
       "                ('UnderSampling2',\n",
       "                 RandomUnderSampler(sampling_strategy={8: 1500, 11: 2000})),\n",
       "                ('OverSampling',\n",
       "                 SMOTETomek(sampling_strategy={0: 1000, 1: 1000, 2: 1000,\n",
       "                                               3: 1000, 5: 1000, 6: 1000,\n",
       "                                               7: 1000, 10: 1000})),\n",
       "                ('Model',\n",
       "                 RandomForestClassifier(criterion='entropy', max_depth=30,\n",
       "                                        min_samples_split=4,\n",
       "                                        n_estimators=150))])"
      ]
     },
     "execution_count": 35,
     "metadata": {},
     "output_type": "execute_result"
    }
   ],
   "source": [
    "steps = []\n",
    "steps.append(('Scaler', MinMaxScaler()))\n",
    "steps.append(('UnderSampling',TomekLinks()))\n",
    "steps.append(('UnderSampling2',RandomUnderSampler(sampling_strategy={11:2000, 8:1500})))\n",
    "steps.append(('OverSampling', SMOTETomek(sampling_strategy={0:1000, 1:1000, 5:1000, 10:1000, 6:1000, 7:1000, 2:1000, 3:1000})))\n",
    "steps.append(('Model',RandomForestClassifier(criterion='entropy', max_depth=30, min_samples_split=4, n_estimators=150)))\n",
    "pipeline = imb_Pipeline(steps=steps)\n",
    "pipeline.fit(x,y)"
   ]
  },
  {
   "cell_type": "markdown",
   "id": "6344eecd",
   "metadata": {},
   "source": [
    "<span style=\"color:#2929a3;font-size:20px;\">Dump The Model</span>"
   ]
  },
  {
   "cell_type": "code",
   "execution_count": 36,
   "id": "bd196a9d",
   "metadata": {},
   "outputs": [
    {
     "data": {
      "text/plain": [
       "['Objects_dict.pkl']"
      ]
     },
     "execution_count": 36,
     "metadata": {},
     "output_type": "execute_result"
    }
   ],
   "source": [
    "import joblib\n",
    "\n",
    "df_cols_names = pd.DataFrame(columns=encoded_df.columns)\n",
    "joblib.dump(df_cols_names,'df_cols_names.pkl')\n",
    "joblib.dump(pipeline,'Model.pkl')\n",
    "joblib.dump(target_encoder,'target_encoder.pkl')\n",
    "joblib.dump(Objects_dict,'Objects_dict.pkl')"
   ]
  },
  {
   "cell_type": "code",
   "execution_count": null,
   "id": "20d746d2",
   "metadata": {},
   "outputs": [],
   "source": []
  }
 ],
 "metadata": {
  "kernelspec": {
   "display_name": "Python 3 (ipykernel)",
   "language": "python",
   "name": "python3"
  },
  "language_info": {
   "codemirror_mode": {
    "name": "ipython",
    "version": 3
   },
   "file_extension": ".py",
   "mimetype": "text/x-python",
   "name": "python",
   "nbconvert_exporter": "python",
   "pygments_lexer": "ipython3",
   "version": "3.10.8"
  }
 },
 "nbformat": 4,
 "nbformat_minor": 5
}
